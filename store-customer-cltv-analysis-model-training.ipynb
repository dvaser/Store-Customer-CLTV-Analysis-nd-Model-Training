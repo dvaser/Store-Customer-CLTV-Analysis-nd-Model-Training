{
 "cells": [
  {
   "cell_type": "markdown",
   "id": "666eac07",
   "metadata": {
    "papermill": {
     "duration": 0.01818,
     "end_time": "2024-09-25T15:37:57.302974",
     "exception": false,
     "start_time": "2024-09-25T15:37:57.284794",
     "status": "completed"
    },
    "tags": []
   },
   "source": [
    "# STORE CUSTOMER CLTV ANALYSIS & MODEL TRAINING"
   ]
  },
  {
   "cell_type": "markdown",
   "id": "460a6db4",
   "metadata": {
    "papermill": {
     "duration": 0.014424,
     "end_time": "2024-09-25T15:37:57.332273",
     "exception": false,
     "start_time": "2024-09-25T15:37:57.317849",
     "status": "completed"
    },
    "tags": []
   },
   "source": [
    "## What will you learn from this project?\n",
    "* Data Reading\n",
    "* Data Cleaning\n",
    "* Data Preparation\n",
    "* CLTV Analysis\n",
    "    * Customer Lifetime Value\n",
    "* BG/NBD Model\n",
    "* Gamma Gamma Submodel\n",
    "* Segmentation\n",
    "* CLTV Prediction with Time Projection "
   ]
  },
  {
   "cell_type": "markdown",
   "id": "5ed43953",
   "metadata": {
    "papermill": {
     "duration": 0.015279,
     "end_time": "2024-09-25T15:37:57.362223",
     "exception": false,
     "start_time": "2024-09-25T15:37:57.346944",
     "status": "completed"
    },
    "tags": []
   },
   "source": [
    "## Introduction\n",
    "* ***Customer Lifetime Value (CLTV):*** is considered to be the monetary value that a customer will bring to a company during its relationship and communication with that company.\n",
    "\n",
    "* CLTV Prediction with Time Projection:\n",
    "    > CLTV = Expected Number of Purchases x Expected Profit Margin\n",
    "    \n",
    "    As a result of this model, we can calculate the expected average profit and the expected number of transactions for each person by reducing the general behavioural characteristics of the crowd to each individual and asking the individual characteristics to the model. With the multiplication of these values, the CLTV value can be developed and the CLTV calculation can be performed for each individual by using a time-projected, conditional expected expression, in a way to accommodate the characteristics of the general mass carried by the conditional expected expression.\n",
    "    > CLTV = BG/NBD Model x Gamma Gamma Model\n",
    "\n",
    "* ***BG/NBD Model:*** It is a probabilistic model that is also used as a stand-alone sales forecasting model. BG/NBD probabilistically models two processes for the expected number of transactions:\n",
    "    * The purchase Process: \n",
    "        - It is the modelling of the purchasing process. In this context, the number of transactions to be performed by a customer in a given time period is distributed possionally with the transaction rate parameter. \n",
    "        - A user will continue to make random purchases around its transaction rate for as long as it is alive.\n",
    "        - Transaction rates vary for each customer and are gamma-distributed for the whole population.\n",
    "    * Dropout Process (Churn): \n",
    "        - Modelling the process by which the user leaves the brand.\n",
    "        - Each customer has a dropout rate (dropout probability) with probability p.\n",
    "        - A customer drops with a certain probability after shopping.\n",
    "        - The dropout rate varies for each customer and is beta distributed for the entire audience.\n",
    "\n",
    "* ***Gamma-Gamma Model:*** It is used to estimate how much profit a customer can generate on average per transaction, and the monetary value of the customer's transactions is randomly distributed around the average of their transaction values."
   ]
  },
  {
   "cell_type": "markdown",
   "id": "9b58da8f",
   "metadata": {
    "papermill": {
     "duration": 0.01449,
     "end_time": "2024-09-25T15:37:57.391488",
     "exception": false,
     "start_time": "2024-09-25T15:37:57.376998",
     "status": "completed"
    },
    "tags": []
   },
   "source": [
    "<a id=\"content\"></a>\n",
    "## Analysis Content\n",
    "1. [Python Libraries](#1)\n",
    "2. [Data Content](#2)\n",
    "3. [Read & Analyse Data](#3)\n",
    "4. [Data Distributions](#4)\n",
    "5. [Data Preprocessing](#5)\n",
    "6. [Data Preprocessing (Suppression)](#6)\n",
    "7. [Data Preparation](#7)\n",
    "8. [Lifetime Data Structure Preparation](#8)\n",
    "9. [BG-NBD Model Setup](#9)\n",
    "10. [Gamma Gamma Model Setup](#10)\n",
    "11. [CLTV Calculation with BG-NBD & GG Model ](#11)\n",
    "12. [CLTV Segmentation](#12)\n",
    "13. [Conclusion](#13)"
   ]
  },
  {
   "cell_type": "markdown",
   "id": "76acb311",
   "metadata": {
    "papermill": {
     "duration": 0.014328,
     "end_time": "2024-09-25T15:37:57.420603",
     "exception": false,
     "start_time": "2024-09-25T15:37:57.406275",
     "status": "completed"
    },
    "tags": []
   },
   "source": [
    "<a id='1'></a>\n",
    "## Python Libraries\n",
    "---\n",
    "> Back to [Main Content](#content)\n",
    "<br>\n",
    "> Next [Content](#2)"
   ]
  },
  {
   "cell_type": "code",
   "execution_count": 1,
   "id": "aceeb72e",
   "metadata": {
    "_cell_guid": "b1076dfc-b9ad-4769-8c92-a6c4dae69d19",
    "_uuid": "8f2839f25d086af736a60e9eeb907d3b93b6e0e5",
    "execution": {
     "iopub.execute_input": "2024-09-25T15:37:57.451793Z",
     "iopub.status.busy": "2024-09-25T15:37:57.451356Z",
     "iopub.status.idle": "2024-09-25T15:38:15.752174Z",
     "shell.execute_reply": "2024-09-25T15:38:15.751044Z"
    },
    "papermill": {
     "duration": 18.319696,
     "end_time": "2024-09-25T15:38:15.755023",
     "exception": false,
     "start_time": "2024-09-25T15:37:57.435327",
     "status": "completed"
    },
    "tags": []
   },
   "outputs": [
    {
     "name": "stdout",
     "output_type": "stream",
     "text": [
      "/kaggle/input/online-retail-ii/online_retail_II.xlsx\n",
      "Collecting lifetimes\r\n",
      "  Downloading Lifetimes-0.11.3-py3-none-any.whl.metadata (4.8 kB)\r\n",
      "Requirement already satisfied: numpy>=1.10.0 in /opt/conda/lib/python3.10/site-packages (from lifetimes) (1.26.4)\r\n",
      "Requirement already satisfied: scipy>=1.0.0 in /opt/conda/lib/python3.10/site-packages (from lifetimes) (1.14.1)\r\n",
      "Requirement already satisfied: pandas>=0.24.0 in /opt/conda/lib/python3.10/site-packages (from lifetimes) (2.2.2)\r\n",
      "Collecting autograd>=1.2.0 (from lifetimes)\r\n",
      "  Downloading autograd-1.7.0-py3-none-any.whl.metadata (7.5 kB)\r\n",
      "Requirement already satisfied: dill>=0.2.6 in /opt/conda/lib/python3.10/site-packages (from lifetimes) (0.3.8)\r\n",
      "Requirement already satisfied: python-dateutil>=2.8.2 in /opt/conda/lib/python3.10/site-packages (from pandas>=0.24.0->lifetimes) (2.9.0.post0)\r\n",
      "Requirement already satisfied: pytz>=2020.1 in /opt/conda/lib/python3.10/site-packages (from pandas>=0.24.0->lifetimes) (2024.1)\r\n",
      "Requirement already satisfied: tzdata>=2022.7 in /opt/conda/lib/python3.10/site-packages (from pandas>=0.24.0->lifetimes) (2024.1)\r\n",
      "Requirement already satisfied: six>=1.5 in /opt/conda/lib/python3.10/site-packages (from python-dateutil>=2.8.2->pandas>=0.24.0->lifetimes) (1.16.0)\r\n",
      "Downloading Lifetimes-0.11.3-py3-none-any.whl (584 kB)\r\n",
      "\u001b[2K   \u001b[90m━━━━━━━━━━━━━━━━━━━━━━━━━━━━━━━━━━━━━━━━\u001b[0m \u001b[32m584.2/584.2 kB\u001b[0m \u001b[31m3.4 MB/s\u001b[0m eta \u001b[36m0:00:00\u001b[0m\r\n",
      "\u001b[?25hDownloading autograd-1.7.0-py3-none-any.whl (52 kB)\r\n",
      "\u001b[2K   \u001b[90m━━━━━━━━━━━━━━━━━━━━━━━━━━━━━━━━━━━━━━━━\u001b[0m \u001b[32m52.5/52.5 kB\u001b[0m \u001b[31m3.1 MB/s\u001b[0m eta \u001b[36m0:00:00\u001b[0m\r\n",
      "\u001b[?25hInstalling collected packages: autograd, lifetimes\r\n",
      "Successfully installed autograd-1.7.0 lifetimes-0.11.3\r\n"
     ]
    }
   ],
   "source": [
    "# This Python 3 environment comes with many helpful analytics libraries installed\n",
    "# It is defined by the kaggle/python Docker image: https://github.com/kaggle/docker-python\n",
    "# For example, here's several helpful packages to load\n",
    "\n",
    "import numpy as np # linear algebra\n",
    "import pandas as pd # data processing, CSV file I/O (e.g. pd.read_csv)\n",
    "\n",
    "# Input data files are available in the read-only \"../input/\" directory\n",
    "# For example, running this (by clicking run or pressing Shift+Enter) will list all files under the input directory\n",
    "\n",
    "import os\n",
    "for dirname, _, filenames in os.walk('/kaggle/input'):\n",
    "    for filename in filenames:\n",
    "        print(os.path.join(dirname, filename))\n",
    "\n",
    "# You can write up to 20GB to the current directory (/kaggle/working/) that gets preserved as output when you create a version using \"Save & Run All\" \n",
    "# You can also write temporary files to /kaggle/temp/, but they won't be saved outside of the current session\n",
    "\n",
    "import numpy as np\n",
    "import datetime as dt\n",
    "import pandas as pd\n",
    "import seaborn as sns\n",
    "import matplotlib.pyplot as plt\n",
    "!pip install lifetimes\n",
    "import lifetimes\n",
    "from lifetimes import BetaGeoFitter\n",
    "from lifetimes import GammaGammaFitter\n",
    "from lifetimes.plotting import plot_period_transactions"
   ]
  },
  {
   "cell_type": "markdown",
   "id": "68c4c643",
   "metadata": {
    "papermill": {
     "duration": 0.016345,
     "end_time": "2024-09-25T15:38:15.787856",
     "exception": false,
     "start_time": "2024-09-25T15:38:15.771511",
     "status": "completed"
    },
    "tags": []
   },
   "source": [
    "<a id='2'></a>\n",
    "## Data Content\n",
    "* This Online Retail II data set contains all the transactions occurring for a UK-based and registered, non-store online retail between 01/12/2009 and 09/12/2011.The company mainly sells unique all-occasion gift-ware. Many customers of the company are wholesalers.\n",
    "    \n",
    "    * ***InvoiceNo:*** Invoice number. Nominal. A 6-digit integral number uniquely assigned to each transaction. If this code starts with the letter 'c', it indicates a cancellation. \n",
    "    * ***StockCode:*** Product (item) code. Nominal. A 5-digit integral number uniquely assigned to each distinct product. \n",
    "    * ***Description:*** Product (item) name. Nominal. \n",
    "    * ***Quantity:*** The quantities of each product (item) per transaction. Numeric.\t\n",
    "    * ***InvoiceDate:*** Invice date and time. Numeric. The day and time when a transaction was generated. \n",
    "    * ***UnitPrice:*** Unit price. Numeric. Product price per unit in sterling (Â£). \n",
    "    * ***CustomerID:*** Customer number. Nominal. A 5-digit integral number uniquely assigned to each customer. \n",
    "    * ***Country:*** Country name. Nominal. The name of the country where a customer resides.\n",
    "\n",
    "* Online Retail II Official Website: https://archive.ics.uci.edu/dataset/502/online+retail+ii\n",
    "---\n",
    "> Back to [Main Content](#content)\n",
    "<br>\n",
    "> Previous [Content](#1)\n",
    "<br>\n",
    "> Next [Content](#3)"
   ]
  },
  {
   "cell_type": "markdown",
   "id": "0a26db30",
   "metadata": {
    "papermill": {
     "duration": 0.016358,
     "end_time": "2024-09-25T15:38:15.820777",
     "exception": false,
     "start_time": "2024-09-25T15:38:15.804419",
     "status": "completed"
    },
    "tags": []
   },
   "source": [
    "<a id='3'></a>\n",
    "## Read & Analyse Data\n",
    "---\n",
    "> Back to [Main Content](#content)\n",
    "<br>\n",
    "> Previous [Content](#2)\n",
    "<br>\n",
    "> Next [Content](#4)"
   ]
  },
  {
   "cell_type": "code",
   "execution_count": 2,
   "id": "794213ea",
   "metadata": {
    "execution": {
     "iopub.execute_input": "2024-09-25T15:38:15.855342Z",
     "iopub.status.busy": "2024-09-25T15:38:15.854575Z",
     "iopub.status.idle": "2024-09-25T15:38:15.860405Z",
     "shell.execute_reply": "2024-09-25T15:38:15.859342Z"
    },
    "papermill": {
     "duration": 0.025898,
     "end_time": "2024-09-25T15:38:15.862832",
     "exception": false,
     "start_time": "2024-09-25T15:38:15.836934",
     "status": "completed"
    },
    "tags": []
   },
   "outputs": [],
   "source": [
    "pd.set_option('display.max_columns', None)\n",
    "pd.set_option('display.float_format', lambda x: '%.3f' % x)"
   ]
  },
  {
   "cell_type": "code",
   "execution_count": 3,
   "id": "51abd02f",
   "metadata": {
    "execution": {
     "iopub.execute_input": "2024-09-25T15:38:15.898132Z",
     "iopub.status.busy": "2024-09-25T15:38:15.897152Z",
     "iopub.status.idle": "2024-09-25T15:39:57.709044Z",
     "shell.execute_reply": "2024-09-25T15:39:57.707847Z"
    },
    "papermill": {
     "duration": 101.832547,
     "end_time": "2024-09-25T15:39:57.711888",
     "exception": false,
     "start_time": "2024-09-25T15:38:15.879341",
     "status": "completed"
    },
    "tags": []
   },
   "outputs": [],
   "source": [
    "# Read Data\n",
    "df = pd.read_excel(\"/kaggle/input/online-retail-ii/online_retail_II.xlsx\", sheet_name=\"Year 2010-2011\")"
   ]
  },
  {
   "cell_type": "code",
   "execution_count": 4,
   "id": "1c1552ed",
   "metadata": {
    "execution": {
     "iopub.execute_input": "2024-09-25T15:39:57.747266Z",
     "iopub.status.busy": "2024-09-25T15:39:57.746671Z",
     "iopub.status.idle": "2024-09-25T15:39:57.942067Z",
     "shell.execute_reply": "2024-09-25T15:39:57.940932Z"
    },
    "papermill": {
     "duration": 0.216202,
     "end_time": "2024-09-25T15:39:57.944673",
     "exception": false,
     "start_time": "2024-09-25T15:39:57.728471",
     "status": "completed"
    },
    "tags": []
   },
   "outputs": [
    {
     "data": {
      "text/html": [
       "<div>\n",
       "<style scoped>\n",
       "    .dataframe tbody tr th:only-of-type {\n",
       "        vertical-align: middle;\n",
       "    }\n",
       "\n",
       "    .dataframe tbody tr th {\n",
       "        vertical-align: top;\n",
       "    }\n",
       "\n",
       "    .dataframe thead th {\n",
       "        text-align: right;\n",
       "    }\n",
       "</style>\n",
       "<table border=\"1\" class=\"dataframe\">\n",
       "  <thead>\n",
       "    <tr style=\"text-align: right;\">\n",
       "      <th></th>\n",
       "      <th>Invoice</th>\n",
       "      <th>StockCode</th>\n",
       "      <th>Description</th>\n",
       "      <th>Quantity</th>\n",
       "      <th>InvoiceDate</th>\n",
       "      <th>Price</th>\n",
       "      <th>Customer ID</th>\n",
       "      <th>Country</th>\n",
       "    </tr>\n",
       "  </thead>\n",
       "  <tbody>\n",
       "    <tr>\n",
       "      <th>0</th>\n",
       "      <td>536365</td>\n",
       "      <td>85123A</td>\n",
       "      <td>WHITE HANGING HEART T-LIGHT HOLDER</td>\n",
       "      <td>6</td>\n",
       "      <td>2010-12-01 08:26:00</td>\n",
       "      <td>2.550</td>\n",
       "      <td>17850.000</td>\n",
       "      <td>United Kingdom</td>\n",
       "    </tr>\n",
       "    <tr>\n",
       "      <th>1</th>\n",
       "      <td>536365</td>\n",
       "      <td>71053</td>\n",
       "      <td>WHITE METAL LANTERN</td>\n",
       "      <td>6</td>\n",
       "      <td>2010-12-01 08:26:00</td>\n",
       "      <td>3.390</td>\n",
       "      <td>17850.000</td>\n",
       "      <td>United Kingdom</td>\n",
       "    </tr>\n",
       "    <tr>\n",
       "      <th>2</th>\n",
       "      <td>536365</td>\n",
       "      <td>84406B</td>\n",
       "      <td>CREAM CUPID HEARTS COAT HANGER</td>\n",
       "      <td>8</td>\n",
       "      <td>2010-12-01 08:26:00</td>\n",
       "      <td>2.750</td>\n",
       "      <td>17850.000</td>\n",
       "      <td>United Kingdom</td>\n",
       "    </tr>\n",
       "    <tr>\n",
       "      <th>3</th>\n",
       "      <td>536365</td>\n",
       "      <td>84029G</td>\n",
       "      <td>KNITTED UNION FLAG HOT WATER BOTTLE</td>\n",
       "      <td>6</td>\n",
       "      <td>2010-12-01 08:26:00</td>\n",
       "      <td>3.390</td>\n",
       "      <td>17850.000</td>\n",
       "      <td>United Kingdom</td>\n",
       "    </tr>\n",
       "    <tr>\n",
       "      <th>4</th>\n",
       "      <td>536365</td>\n",
       "      <td>84029E</td>\n",
       "      <td>RED WOOLLY HOTTIE WHITE HEART.</td>\n",
       "      <td>6</td>\n",
       "      <td>2010-12-01 08:26:00</td>\n",
       "      <td>3.390</td>\n",
       "      <td>17850.000</td>\n",
       "      <td>United Kingdom</td>\n",
       "    </tr>\n",
       "  </tbody>\n",
       "</table>\n",
       "</div>"
      ],
      "text/plain": [
       "  Invoice StockCode                          Description  Quantity  \\\n",
       "0  536365    85123A   WHITE HANGING HEART T-LIGHT HOLDER         6   \n",
       "1  536365     71053                  WHITE METAL LANTERN         6   \n",
       "2  536365    84406B       CREAM CUPID HEARTS COAT HANGER         8   \n",
       "3  536365    84029G  KNITTED UNION FLAG HOT WATER BOTTLE         6   \n",
       "4  536365    84029E       RED WOOLLY HOTTIE WHITE HEART.         6   \n",
       "\n",
       "          InvoiceDate  Price  Customer ID         Country  \n",
       "0 2010-12-01 08:26:00  2.550    17850.000  United Kingdom  \n",
       "1 2010-12-01 08:26:00  3.390    17850.000  United Kingdom  \n",
       "2 2010-12-01 08:26:00  2.750    17850.000  United Kingdom  \n",
       "3 2010-12-01 08:26:00  3.390    17850.000  United Kingdom  \n",
       "4 2010-12-01 08:26:00  3.390    17850.000  United Kingdom  "
      ]
     },
     "execution_count": 4,
     "metadata": {},
     "output_type": "execute_result"
    }
   ],
   "source": [
    "df_retail = df.copy()\n",
    "# Show five row of data\n",
    "df_retail.head()"
   ]
  },
  {
   "cell_type": "code",
   "execution_count": 5,
   "id": "4c054647",
   "metadata": {
    "execution": {
     "iopub.execute_input": "2024-09-25T15:39:57.979940Z",
     "iopub.status.busy": "2024-09-25T15:39:57.978930Z",
     "iopub.status.idle": "2024-09-25T15:39:58.087139Z",
     "shell.execute_reply": "2024-09-25T15:39:58.085880Z"
    },
    "papermill": {
     "duration": 0.128397,
     "end_time": "2024-09-25T15:39:58.089623",
     "exception": false,
     "start_time": "2024-09-25T15:39:57.961226",
     "status": "completed"
    },
    "tags": []
   },
   "outputs": [
    {
     "data": {
      "text/html": [
       "<div>\n",
       "<style scoped>\n",
       "    .dataframe tbody tr th:only-of-type {\n",
       "        vertical-align: middle;\n",
       "    }\n",
       "\n",
       "    .dataframe tbody tr th {\n",
       "        vertical-align: top;\n",
       "    }\n",
       "\n",
       "    .dataframe thead th {\n",
       "        text-align: right;\n",
       "    }\n",
       "</style>\n",
       "<table border=\"1\" class=\"dataframe\">\n",
       "  <thead>\n",
       "    <tr style=\"text-align: right;\">\n",
       "      <th></th>\n",
       "      <th>Quantity</th>\n",
       "      <th>InvoiceDate</th>\n",
       "      <th>Price</th>\n",
       "      <th>Customer ID</th>\n",
       "    </tr>\n",
       "  </thead>\n",
       "  <tbody>\n",
       "    <tr>\n",
       "      <th>count</th>\n",
       "      <td>541910.000</td>\n",
       "      <td>541910</td>\n",
       "      <td>541910.000</td>\n",
       "      <td>406830.000</td>\n",
       "    </tr>\n",
       "    <tr>\n",
       "      <th>mean</th>\n",
       "      <td>9.552</td>\n",
       "      <td>2011-07-04 13:35:22.342307584</td>\n",
       "      <td>4.611</td>\n",
       "      <td>15287.684</td>\n",
       "    </tr>\n",
       "    <tr>\n",
       "      <th>min</th>\n",
       "      <td>-80995.000</td>\n",
       "      <td>2010-12-01 08:26:00</td>\n",
       "      <td>-11062.060</td>\n",
       "      <td>12346.000</td>\n",
       "    </tr>\n",
       "    <tr>\n",
       "      <th>25%</th>\n",
       "      <td>1.000</td>\n",
       "      <td>2011-03-28 11:34:00</td>\n",
       "      <td>1.250</td>\n",
       "      <td>13953.000</td>\n",
       "    </tr>\n",
       "    <tr>\n",
       "      <th>50%</th>\n",
       "      <td>3.000</td>\n",
       "      <td>2011-07-19 17:17:00</td>\n",
       "      <td>2.080</td>\n",
       "      <td>15152.000</td>\n",
       "    </tr>\n",
       "    <tr>\n",
       "      <th>75%</th>\n",
       "      <td>10.000</td>\n",
       "      <td>2011-10-19 11:27:00</td>\n",
       "      <td>4.130</td>\n",
       "      <td>16791.000</td>\n",
       "    </tr>\n",
       "    <tr>\n",
       "      <th>max</th>\n",
       "      <td>80995.000</td>\n",
       "      <td>2011-12-09 12:50:00</td>\n",
       "      <td>38970.000</td>\n",
       "      <td>18287.000</td>\n",
       "    </tr>\n",
       "    <tr>\n",
       "      <th>std</th>\n",
       "      <td>218.081</td>\n",
       "      <td>NaN</td>\n",
       "      <td>96.760</td>\n",
       "      <td>1713.603</td>\n",
       "    </tr>\n",
       "  </tbody>\n",
       "</table>\n",
       "</div>"
      ],
      "text/plain": [
       "        Quantity                    InvoiceDate      Price  Customer ID\n",
       "count 541910.000                         541910 541910.000   406830.000\n",
       "mean       9.552  2011-07-04 13:35:22.342307584      4.611    15287.684\n",
       "min   -80995.000            2010-12-01 08:26:00 -11062.060    12346.000\n",
       "25%        1.000            2011-03-28 11:34:00      1.250    13953.000\n",
       "50%        3.000            2011-07-19 17:17:00      2.080    15152.000\n",
       "75%       10.000            2011-10-19 11:27:00      4.130    16791.000\n",
       "max    80995.000            2011-12-09 12:50:00  38970.000    18287.000\n",
       "std      218.081                            NaN     96.760     1713.603"
      ]
     },
     "execution_count": 5,
     "metadata": {},
     "output_type": "execute_result"
    }
   ],
   "source": [
    "# Describe basic statistics of data\n",
    "df_retail.describe()"
   ]
  },
  {
   "cell_type": "code",
   "execution_count": 6,
   "id": "6e1077d4",
   "metadata": {
    "execution": {
     "iopub.execute_input": "2024-09-25T15:39:58.125976Z",
     "iopub.status.busy": "2024-09-25T15:39:58.124987Z",
     "iopub.status.idle": "2024-09-25T15:39:58.376697Z",
     "shell.execute_reply": "2024-09-25T15:39:58.375615Z"
    },
    "papermill": {
     "duration": 0.272319,
     "end_time": "2024-09-25T15:39:58.379288",
     "exception": false,
     "start_time": "2024-09-25T15:39:58.106969",
     "status": "completed"
    },
    "tags": []
   },
   "outputs": [
    {
     "name": "stdout",
     "output_type": "stream",
     "text": [
      "<class 'pandas.core.frame.DataFrame'>\n",
      "RangeIndex: 541910 entries, 0 to 541909\n",
      "Data columns (total 8 columns):\n",
      " #   Column       Non-Null Count   Dtype         \n",
      "---  ------       --------------   -----         \n",
      " 0   Invoice      541910 non-null  object        \n",
      " 1   StockCode    541910 non-null  object        \n",
      " 2   Description  540456 non-null  object        \n",
      " 3   Quantity     541910 non-null  int64         \n",
      " 4   InvoiceDate  541910 non-null  datetime64[ns]\n",
      " 5   Price        541910 non-null  float64       \n",
      " 6   Customer ID  406830 non-null  float64       \n",
      " 7   Country      541910 non-null  object        \n",
      "dtypes: datetime64[ns](1), float64(2), int64(1), object(4)\n",
      "memory usage: 33.1+ MB\n"
     ]
    }
   ],
   "source": [
    "# Information about data\n",
    "df_retail.info()"
   ]
  },
  {
   "cell_type": "markdown",
   "id": "3385e30b",
   "metadata": {
    "papermill": {
     "duration": 0.016393,
     "end_time": "2024-09-25T15:39:58.412444",
     "exception": false,
     "start_time": "2024-09-25T15:39:58.396051",
     "status": "completed"
    },
    "tags": []
   },
   "source": [
    "<a id='4'></a>\n",
    "## Data Distributions\n",
    "* Unique Values\n",
    "* Distribution of Remaining Features\n",
    "---\n",
    "> Back to [Main Content](#content)\n",
    "<br>\n",
    "> Previous [Content](#3)\n",
    "<br>\n",
    "> Next [Content](#5)"
   ]
  },
  {
   "cell_type": "code",
   "execution_count": 7,
   "id": "2d8d9e8f",
   "metadata": {
    "execution": {
     "iopub.execute_input": "2024-09-25T15:39:58.448107Z",
     "iopub.status.busy": "2024-09-25T15:39:58.447648Z",
     "iopub.status.idle": "2024-09-25T15:39:58.693389Z",
     "shell.execute_reply": "2024-09-25T15:39:58.691949Z"
    },
    "papermill": {
     "duration": 0.266699,
     "end_time": "2024-09-25T15:39:58.696005",
     "exception": false,
     "start_time": "2024-09-25T15:39:58.429306",
     "status": "completed"
    },
    "tags": []
   },
   "outputs": [
    {
     "data": {
      "text/plain": [
       "Invoice             0\n",
       "StockCode           0\n",
       "Description      1454\n",
       "Quantity            0\n",
       "InvoiceDate         0\n",
       "Price               0\n",
       "Customer ID    135080\n",
       "Country             0\n",
       "dtype: int64"
      ]
     },
     "execution_count": 7,
     "metadata": {},
     "output_type": "execute_result"
    }
   ],
   "source": [
    "# Null Values\n",
    "df_retail.isnull().sum()"
   ]
  },
  {
   "cell_type": "code",
   "execution_count": 8,
   "id": "9a9e3680",
   "metadata": {
    "execution": {
     "iopub.execute_input": "2024-09-25T15:39:58.731972Z",
     "iopub.status.busy": "2024-09-25T15:39:58.731495Z",
     "iopub.status.idle": "2024-09-25T15:39:58.765462Z",
     "shell.execute_reply": "2024-09-25T15:39:58.764312Z"
    },
    "papermill": {
     "duration": 0.054816,
     "end_time": "2024-09-25T15:39:58.767842",
     "exception": false,
     "start_time": "2024-09-25T15:39:58.713026",
     "status": "completed"
    },
    "tags": []
   },
   "outputs": [
    {
     "data": {
      "text/plain": [
       "4223"
      ]
     },
     "execution_count": 8,
     "metadata": {},
     "output_type": "execute_result"
    }
   ],
   "source": [
    "# Description: Product (item) name. Nominal\n",
    "# Nunique Value for Description\n",
    "df_retail[\"Description\"].nunique()"
   ]
  },
  {
   "cell_type": "code",
   "execution_count": 9,
   "id": "a8cca3e6",
   "metadata": {
    "execution": {
     "iopub.execute_input": "2024-09-25T15:39:58.804273Z",
     "iopub.status.busy": "2024-09-25T15:39:58.803322Z",
     "iopub.status.idle": "2024-09-25T15:39:58.921062Z",
     "shell.execute_reply": "2024-09-25T15:39:58.919895Z"
    },
    "papermill": {
     "duration": 0.138783,
     "end_time": "2024-09-25T15:39:58.923757",
     "exception": false,
     "start_time": "2024-09-25T15:39:58.784974",
     "status": "completed"
    },
    "tags": []
   },
   "outputs": [
    {
     "data": {
      "text/html": [
       "<div>\n",
       "<style scoped>\n",
       "    .dataframe tbody tr th:only-of-type {\n",
       "        vertical-align: middle;\n",
       "    }\n",
       "\n",
       "    .dataframe tbody tr th {\n",
       "        vertical-align: top;\n",
       "    }\n",
       "\n",
       "    .dataframe thead th {\n",
       "        text-align: right;\n",
       "    }\n",
       "</style>\n",
       "<table border=\"1\" class=\"dataframe\">\n",
       "  <thead>\n",
       "    <tr style=\"text-align: right;\">\n",
       "      <th></th>\n",
       "      <th>Quantity</th>\n",
       "    </tr>\n",
       "    <tr>\n",
       "      <th>Description</th>\n",
       "      <th></th>\n",
       "    </tr>\n",
       "  </thead>\n",
       "  <tbody>\n",
       "    <tr>\n",
       "      <th>20713</th>\n",
       "      <td>-400</td>\n",
       "    </tr>\n",
       "    <tr>\n",
       "      <th>4 PURPLE FLOCK DINNER CANDLES</th>\n",
       "      <td>144</td>\n",
       "    </tr>\n",
       "    <tr>\n",
       "      <th>50'S CHRISTMAS GIFT BAG LARGE</th>\n",
       "      <td>1913</td>\n",
       "    </tr>\n",
       "    <tr>\n",
       "      <th>DOLLY GIRL BEAKER</th>\n",
       "      <td>2448</td>\n",
       "    </tr>\n",
       "    <tr>\n",
       "      <th>I LOVE LONDON MINI BACKPACK</th>\n",
       "      <td>389</td>\n",
       "    </tr>\n",
       "  </tbody>\n",
       "</table>\n",
       "</div>"
      ],
      "text/plain": [
       "                                Quantity\n",
       "Description                             \n",
       "20713                               -400\n",
       " 4 PURPLE FLOCK DINNER CANDLES       144\n",
       " 50'S CHRISTMAS GIFT BAG LARGE      1913\n",
       " DOLLY GIRL BEAKER                  2448\n",
       " I LOVE LONDON MINI BACKPACK         389"
      ]
     },
     "execution_count": 9,
     "metadata": {},
     "output_type": "execute_result"
    }
   ],
   "source": [
    "# Description: Product (item) name. Nominal\n",
    "# Item Count\n",
    "df_retail.groupby(\"Description\").agg({\"Quantity\":\"sum\"}).head()"
   ]
  },
  {
   "cell_type": "markdown",
   "id": "dda09aa3",
   "metadata": {
    "papermill": {
     "duration": 0.017108,
     "end_time": "2024-09-25T15:39:58.958691",
     "exception": false,
     "start_time": "2024-09-25T15:39:58.941583",
     "status": "completed"
    },
    "tags": []
   },
   "source": [
    "<a id='5'></a>\n",
    "## Data Preprocessing\n",
    "---\n",
    "> Back to [Main Content](#content)\n",
    "<br>\n",
    "> Previous [Content](#4)\n",
    "<br>\n",
    "> Next [Content](#6)"
   ]
  },
  {
   "cell_type": "code",
   "execution_count": 10,
   "id": "c1962177",
   "metadata": {
    "execution": {
     "iopub.execute_input": "2024-09-25T15:39:58.995279Z",
     "iopub.status.busy": "2024-09-25T15:39:58.994840Z",
     "iopub.status.idle": "2024-09-25T15:40:02.557439Z",
     "shell.execute_reply": "2024-09-25T15:40:02.556257Z"
    },
    "papermill": {
     "duration": 3.583728,
     "end_time": "2024-09-25T15:40:02.559895",
     "exception": false,
     "start_time": "2024-09-25T15:39:58.976167",
     "status": "completed"
    },
    "tags": []
   },
   "outputs": [
    {
     "data": {
      "image/png": "[encoded data removed]",
      "text/plain": [
       "<Figure size 640x480 with 1 Axes>"
      ]
     },
     "metadata": {},
     "output_type": "display_data"
    }
   ],
   "source": [
    "plt.title(\"Before Data Preprocessing\")\n",
    "df_retail.boxplot()\n",
    "plt.show()"
   ]
  },
  {
   "cell_type": "code",
   "execution_count": 11,
   "id": "4d11cfd3",
   "metadata": {
    "execution": {
     "iopub.execute_input": "2024-09-25T15:40:02.598717Z",
     "iopub.status.busy": "2024-09-25T15:40:02.598286Z",
     "iopub.status.idle": "2024-09-25T15:40:03.701481Z",
     "shell.execute_reply": "2024-09-25T15:40:03.700475Z"
    },
    "papermill": {
     "duration": 1.125638,
     "end_time": "2024-09-25T15:40:03.704283",
     "exception": false,
     "start_time": "2024-09-25T15:40:02.578645",
     "status": "completed"
    },
    "tags": []
   },
   "outputs": [],
   "source": [
    "df_retail.dropna(inplace=True)\n",
    "df_retail = df_retail[~df_retail[\"Invoice\"].str.contains(\"C\", na=False)]\n",
    "df_retail = df_retail[df_retail[\"Quantity\"] > 0]\n",
    "df_retail = df_retail[df_retail[\"Price\"] > 0]"
   ]
  },
  {
   "cell_type": "code",
   "execution_count": 12,
   "id": "69d04a7b",
   "metadata": {
    "execution": {
     "iopub.execute_input": "2024-09-25T15:40:03.742362Z",
     "iopub.status.busy": "2024-09-25T15:40:03.741863Z",
     "iopub.status.idle": "2024-09-25T15:40:06.674702Z",
     "shell.execute_reply": "2024-09-25T15:40:06.673492Z"
    },
    "papermill": {
     "duration": 2.954923,
     "end_time": "2024-09-25T15:40:06.677327",
     "exception": false,
     "start_time": "2024-09-25T15:40:03.722404",
     "status": "completed"
    },
    "tags": []
   },
   "outputs": [
    {
     "data": {
      "image/png": "[encoded data removed]",
      "text/plain": [
       "<Figure size 640x480 with 1 Axes>"
      ]
     },
     "metadata": {},
     "output_type": "display_data"
    }
   ],
   "source": [
    "plt.title(\"After Data Preprocessing, Before Data Suppression\")\n",
    "df_retail.boxplot()\n",
    "plt.show()"
   ]
  },
  {
   "cell_type": "markdown",
   "id": "08cc2e11",
   "metadata": {
    "papermill": {
     "duration": 0.01844,
     "end_time": "2024-09-25T15:40:06.714857",
     "exception": false,
     "start_time": "2024-09-25T15:40:06.696417",
     "status": "completed"
    },
    "tags": []
   },
   "source": [
    "<a id='6'></a>\n",
    "## Data Preprocessing (Suppression)\n",
    "---\n",
    "> Back to [Main Content](#content)\n",
    "<br>\n",
    "> Previous [Content](#5)\n",
    "<br>\n",
    "> Next [Content](#7)  "
   ]
  },
  {
   "cell_type": "code",
   "execution_count": 13,
   "id": "00d003cb",
   "metadata": {
    "execution": {
     "iopub.execute_input": "2024-09-25T15:40:06.753778Z",
     "iopub.status.busy": "2024-09-25T15:40:06.753327Z",
     "iopub.status.idle": "2024-09-25T15:40:06.759595Z",
     "shell.execute_reply": "2024-09-25T15:40:06.758492Z"
    },
    "papermill": {
     "duration": 0.02878,
     "end_time": "2024-09-25T15:40:06.762183",
     "exception": false,
     "start_time": "2024-09-25T15:40:06.733403",
     "status": "completed"
    },
    "tags": []
   },
   "outputs": [],
   "source": [
    "def outlier_thresholds(dataframe, variable):\n",
    "    quartile1 = dataframe[variable].quantile(0.001)\n",
    "    quartile3 = dataframe[variable].quantile(0.999)\n",
    "    interquartile_range = quartile3 - quartile1\n",
    "    up_limit = quartile3 + 1.5 * interquartile_range\n",
    "    low_limit = quartile1 - 1.5 * interquartile_range\n",
    "    \n",
    "    return low_limit, up_limit"
   ]
  },
  {
   "cell_type": "code",
   "execution_count": 14,
   "id": "ef230f02",
   "metadata": {
    "execution": {
     "iopub.execute_input": "2024-09-25T15:40:06.802428Z",
     "iopub.status.busy": "2024-09-25T15:40:06.800962Z",
     "iopub.status.idle": "2024-09-25T15:40:06.807593Z",
     "shell.execute_reply": "2024-09-25T15:40:06.806658Z"
    },
    "papermill": {
     "duration": 0.028922,
     "end_time": "2024-09-25T15:40:06.809900",
     "exception": false,
     "start_time": "2024-09-25T15:40:06.780978",
     "status": "completed"
    },
    "tags": []
   },
   "outputs": [],
   "source": [
    "def replace_with_thresholds(dataframe, variable):\n",
    "    low_limit, up_limit = outlier_thresholds(dataframe, variable)\n",
    "    dataframe.loc[(dataframe[variable] < low_limit), variable] = low_limit\n",
    "    dataframe.loc[(dataframe[variable] > up_limit), variable] = up_limit"
   ]
  },
  {
   "cell_type": "code",
   "execution_count": 15,
   "id": "8c54ef6a",
   "metadata": {
    "execution": {
     "iopub.execute_input": "2024-09-25T15:40:06.849204Z",
     "iopub.status.busy": "2024-09-25T15:40:06.848480Z",
     "iopub.status.idle": "2024-09-25T15:40:06.883265Z",
     "shell.execute_reply": "2024-09-25T15:40:06.882296Z"
    },
    "papermill": {
     "duration": 0.057479,
     "end_time": "2024-09-25T15:40:06.885929",
     "exception": false,
     "start_time": "2024-09-25T15:40:06.828450",
     "status": "completed"
    },
    "tags": []
   },
   "outputs": [],
   "source": [
    "# Upload dataset with Data Suppression\n",
    "replace_with_thresholds(df_retail, \"Quantity\")\n",
    "replace_with_thresholds(df_retail, \"Price\")"
   ]
  },
  {
   "cell_type": "code",
   "execution_count": 16,
   "id": "604439a2",
   "metadata": {
    "execution": {
     "iopub.execute_input": "2024-09-25T15:40:06.924753Z",
     "iopub.status.busy": "2024-09-25T15:40:06.924332Z",
     "iopub.status.idle": "2024-09-25T15:40:09.724725Z",
     "shell.execute_reply": "2024-09-25T15:40:09.723575Z"
    },
    "papermill": {
     "duration": 2.822596,
     "end_time": "2024-09-25T15:40:09.727072",
     "exception": false,
     "start_time": "2024-09-25T15:40:06.904476",
     "status": "completed"
    },
    "tags": []
   },
   "outputs": [
    {
     "data": {
      "image/png": "[encoded data removed]",
      "text/plain": [
       "<Figure size 640x480 with 1 Axes>"
      ]
     },
     "metadata": {},
     "output_type": "display_data"
    }
   ],
   "source": [
    "plt.title(\"After Data Suppression\")\n",
    "df_retail.boxplot()\n",
    "plt.show()"
   ]
  },
  {
   "cell_type": "markdown",
   "id": "20fe60d6",
   "metadata": {
    "papermill": {
     "duration": 0.01884,
     "end_time": "2024-09-25T15:40:09.765037",
     "exception": false,
     "start_time": "2024-09-25T15:40:09.746197",
     "status": "completed"
    },
    "tags": []
   },
   "source": [
    "<a id='7'></a>\n",
    "## Data Preparation\n",
    "---\n",
    "> Back to [Main Content](#content)\n",
    "<br>\n",
    "> Previous [Content](#6)\n",
    "<br>\n",
    "> Next [Content](#8)  "
   ]
  },
  {
   "cell_type": "code",
   "execution_count": 17,
   "id": "921be152",
   "metadata": {
    "execution": {
     "iopub.execute_input": "2024-09-25T15:40:09.805548Z",
     "iopub.status.busy": "2024-09-25T15:40:09.804434Z",
     "iopub.status.idle": "2024-09-25T15:40:09.813155Z",
     "shell.execute_reply": "2024-09-25T15:40:09.812047Z"
    },
    "papermill": {
     "duration": 0.031553,
     "end_time": "2024-09-25T15:40:09.815686",
     "exception": false,
     "start_time": "2024-09-25T15:40:09.784133",
     "status": "completed"
    },
    "tags": []
   },
   "outputs": [],
   "source": [
    "# Create Total Price\n",
    "df_retail[\"TotalPrice\"] = df_retail[\"Quantity\"] * df_retail[\"Price\"]"
   ]
  },
  {
   "cell_type": "code",
   "execution_count": 18,
   "id": "50a68d37",
   "metadata": {
    "execution": {
     "iopub.execute_input": "2024-09-25T15:40:09.855702Z",
     "iopub.status.busy": "2024-09-25T15:40:09.855282Z",
     "iopub.status.idle": "2024-09-25T15:40:09.860462Z",
     "shell.execute_reply": "2024-09-25T15:40:09.859381Z"
    },
    "papermill": {
     "duration": 0.028111,
     "end_time": "2024-09-25T15:40:09.862938",
     "exception": false,
     "start_time": "2024-09-25T15:40:09.834827",
     "status": "completed"
    },
    "tags": []
   },
   "outputs": [],
   "source": [
    "# Create Datetime Value\n",
    "today_date = dt.datetime(2011,12,11)"
   ]
  },
  {
   "cell_type": "markdown",
   "id": "2cfc7049",
   "metadata": {
    "papermill": {
     "duration": 0.018833,
     "end_time": "2024-09-25T15:40:09.900841",
     "exception": false,
     "start_time": "2024-09-25T15:40:09.882008",
     "status": "completed"
    },
    "tags": []
   },
   "source": [
    "<a id='8'></a>\n",
    "## Lifetime Data Structure Preparation \n",
    "* Recency: Time elapsed since the last purchase. Weekly (user specific)\n",
    "* T: Age of the customer. Weekly (how long before the date of the analysis was the first purchase)\n",
    "* Frequency: Total number of repeat purchases (frequency > 1)\n",
    "* Monetary: Average earnings per purchase\n",
    "---\n",
    "> Back to [Main Content](#content)\n",
    "<br>\n",
    "> Previous [Content](#7)\n",
    "<br>\n",
    "> Next [Content](#9)  "
   ]
  },
  {
   "cell_type": "code",
   "execution_count": 19,
   "id": "6a5d5d51",
   "metadata": {
    "execution": {
     "iopub.execute_input": "2024-09-25T15:40:09.940999Z",
     "iopub.status.busy": "2024-09-25T15:40:09.940541Z",
     "iopub.status.idle": "2024-09-25T15:40:11.736670Z",
     "shell.execute_reply": "2024-09-25T15:40:11.735506Z"
    },
    "papermill": {
     "duration": 1.819613,
     "end_time": "2024-09-25T15:40:11.739446",
     "exception": false,
     "start_time": "2024-09-25T15:40:09.919833",
     "status": "completed"
    },
    "tags": []
   },
   "outputs": [],
   "source": [
    "cltv = df_retail.groupby(\"Customer ID\").agg({\"InvoiceDate\": [lambda date: (date.max() - date.min()).days,\n",
    "                                                             lambda date: (today_date - date.min()).days],\n",
    "                                             \"Invoice\": lambda num: num.nunique(),\n",
    "                                             \"TotalPrice\": lambda price: price.sum()})\n",
    "\n",
    "cltv.columns = cltv.columns.droplevel(0)\n",
    "cltv.columns = [\"Recency\", \"T\", \"Frequency\", \"Monetary\"]\n",
    "cltv.index = cltv.index.astype(int)"
   ]
  },
  {
   "cell_type": "code",
   "execution_count": 20,
   "id": "3bbda888",
   "metadata": {
    "execution": {
     "iopub.execute_input": "2024-09-25T15:40:11.780329Z",
     "iopub.status.busy": "2024-09-25T15:40:11.779887Z",
     "iopub.status.idle": "2024-09-25T15:40:11.789499Z",
     "shell.execute_reply": "2024-09-25T15:40:11.788405Z"
    },
    "papermill": {
     "duration": 0.033042,
     "end_time": "2024-09-25T15:40:11.791934",
     "exception": false,
     "start_time": "2024-09-25T15:40:11.758892",
     "status": "completed"
    },
    "tags": []
   },
   "outputs": [],
   "source": [
    "# Average Monetary\n",
    "cltv[\"Monetary\"] = cltv[\"Monetary\"] / cltv[\"Frequency\"]\n",
    "\n",
    "# Frequency > 1\n",
    "cltv = cltv[cltv[\"Frequency\"] > 1]\n",
    "\n",
    "# Weekly Recency\n",
    "cltv[\"Recency\"] = cltv[\"Recency\"] / 7\n",
    "\n",
    "# Weekly T\n",
    "cltv[\"T\"] = cltv[\"T\"] / 7"
   ]
  },
  {
   "cell_type": "code",
   "execution_count": 21,
   "id": "ca4bba30",
   "metadata": {
    "execution": {
     "iopub.execute_input": "2024-09-25T15:40:11.831649Z",
     "iopub.status.busy": "2024-09-25T15:40:11.831239Z",
     "iopub.status.idle": "2024-09-25T15:40:11.844314Z",
     "shell.execute_reply": "2024-09-25T15:40:11.843072Z"
    },
    "papermill": {
     "duration": 0.036012,
     "end_time": "2024-09-25T15:40:11.846954",
     "exception": false,
     "start_time": "2024-09-25T15:40:11.810942",
     "status": "completed"
    },
    "tags": []
   },
   "outputs": [
    {
     "data": {
      "text/html": [
       "<div>\n",
       "<style scoped>\n",
       "    .dataframe tbody tr th:only-of-type {\n",
       "        vertical-align: middle;\n",
       "    }\n",
       "\n",
       "    .dataframe tbody tr th {\n",
       "        vertical-align: top;\n",
       "    }\n",
       "\n",
       "    .dataframe thead th {\n",
       "        text-align: right;\n",
       "    }\n",
       "</style>\n",
       "<table border=\"1\" class=\"dataframe\">\n",
       "  <thead>\n",
       "    <tr style=\"text-align: right;\">\n",
       "      <th></th>\n",
       "      <th>Recency</th>\n",
       "      <th>T</th>\n",
       "      <th>Frequency</th>\n",
       "      <th>Monetary</th>\n",
       "    </tr>\n",
       "    <tr>\n",
       "      <th>Customer ID</th>\n",
       "      <th></th>\n",
       "      <th></th>\n",
       "      <th></th>\n",
       "      <th></th>\n",
       "    </tr>\n",
       "  </thead>\n",
       "  <tbody>\n",
       "    <tr>\n",
       "      <th>12347</th>\n",
       "      <td>52.143</td>\n",
       "      <td>52.571</td>\n",
       "      <td>7</td>\n",
       "      <td>615.714</td>\n",
       "    </tr>\n",
       "    <tr>\n",
       "      <th>12348</th>\n",
       "      <td>40.286</td>\n",
       "      <td>51.286</td>\n",
       "      <td>4</td>\n",
       "      <td>449.310</td>\n",
       "    </tr>\n",
       "    <tr>\n",
       "      <th>12352</th>\n",
       "      <td>37.143</td>\n",
       "      <td>42.429</td>\n",
       "      <td>8</td>\n",
       "      <td>247.421</td>\n",
       "    </tr>\n",
       "    <tr>\n",
       "      <th>12356</th>\n",
       "      <td>43.143</td>\n",
       "      <td>46.571</td>\n",
       "      <td>3</td>\n",
       "      <td>937.143</td>\n",
       "    </tr>\n",
       "    <tr>\n",
       "      <th>12358</th>\n",
       "      <td>21.286</td>\n",
       "      <td>21.571</td>\n",
       "      <td>2</td>\n",
       "      <td>584.030</td>\n",
       "    </tr>\n",
       "  </tbody>\n",
       "</table>\n",
       "</div>"
      ],
      "text/plain": [
       "             Recency      T  Frequency  Monetary\n",
       "Customer ID                                     \n",
       "12347         52.143 52.571          7   615.714\n",
       "12348         40.286 51.286          4   449.310\n",
       "12352         37.143 42.429          8   247.421\n",
       "12356         43.143 46.571          3   937.143\n",
       "12358         21.286 21.571          2   584.030"
      ]
     },
     "execution_count": 21,
     "metadata": {},
     "output_type": "execute_result"
    }
   ],
   "source": [
    "cltv.head()"
   ]
  },
  {
   "cell_type": "markdown",
   "id": "313cdb39",
   "metadata": {
    "papermill": {
     "duration": 0.019132,
     "end_time": "2024-09-25T15:40:11.885623",
     "exception": false,
     "start_time": "2024-09-25T15:40:11.866491",
     "status": "completed"
    },
    "tags": []
   },
   "source": [
    "<a id='9'></a>\n",
    "## BG-NBD Model Setup \n",
    "---\n",
    "> Back to [Main Content](#content)\n",
    "<br>\n",
    "> Previous [Content](#8)\n",
    "<br>\n",
    "> Next [Content](#10)  "
   ]
  },
  {
   "cell_type": "code",
   "execution_count": 22,
   "id": "a18d24e4",
   "metadata": {
    "execution": {
     "iopub.execute_input": "2024-09-25T15:40:11.926248Z",
     "iopub.status.busy": "2024-09-25T15:40:11.925398Z",
     "iopub.status.idle": "2024-09-25T15:40:12.085954Z",
     "shell.execute_reply": "2024-09-25T15:40:12.084540Z"
    },
    "papermill": {
     "duration": 0.186824,
     "end_time": "2024-09-25T15:40:12.091520",
     "exception": false,
     "start_time": "2024-09-25T15:40:11.904696",
     "status": "completed"
    },
    "tags": []
   },
   "outputs": [
    {
     "data": {
      "text/plain": [
       "<lifetimes.BetaGeoFitter: fitted with 2845 subjects, a: 0.12, alpha: 11.41, b: 2.49, r: 2.18>"
      ]
     },
     "execution_count": 22,
     "metadata": {},
     "output_type": "execute_result"
    }
   ],
   "source": [
    "# BG-NBD Model\n",
    "bgf = BetaGeoFitter(penalizer_coef=0.001)\n",
    "\n",
    "bgf.fit(cltv[\"Frequency\"],\n",
    "        cltv[\"Recency\"],\n",
    "        cltv[\"T\"])"
   ]
  },
  {
   "cell_type": "code",
   "execution_count": 23,
   "id": "ed7db746",
   "metadata": {
    "execution": {
     "iopub.execute_input": "2024-09-25T15:40:12.175969Z",
     "iopub.status.busy": "2024-09-25T15:40:12.175051Z",
     "iopub.status.idle": "2024-09-25T15:40:12.211012Z",
     "shell.execute_reply": "2024-09-25T15:40:12.209677Z"
    },
    "papermill": {
     "duration": 0.081619,
     "end_time": "2024-09-25T15:40:12.213618",
     "exception": false,
     "start_time": "2024-09-25T15:40:12.131999",
     "status": "completed"
    },
    "tags": []
   },
   "outputs": [
    {
     "data": {
      "text/plain": [
       "Customer ID\n",
       "12748   3.250\n",
       "14911   3.126\n",
       "17841   1.940\n",
       "13089   1.537\n",
       "14606   1.464\n",
       "15311   1.434\n",
       "12971   1.357\n",
       "14646   1.206\n",
       "13408   0.986\n",
       "18102   0.969\n",
       "dtype: float64"
      ]
     },
     "execution_count": 23,
     "metadata": {},
     "output_type": "execute_result"
    }
   ],
   "source": [
    "# Who are the top 10 customers we expect to buy from in 1 week?\n",
    "\n",
    "# Answer 1\n",
    "bgf.conditional_expected_number_of_purchases_up_to_time(1, # 1 weekly\n",
    "                                                        cltv[\"Frequency\"],\n",
    "                                                        cltv[\"Recency\"],\n",
    "                                                        cltv[\"T\"]).sort_values(ascending=False).head(10)\n",
    "# or Answer 2\n",
    "bgf.predict(1, # 1 weekly\n",
    "            cltv[\"Frequency\"],\n",
    "            cltv[\"Recency\"],\n",
    "            cltv[\"T\"]).sort_values(ascending=False).head(10)"
   ]
  },
  {
   "cell_type": "code",
   "execution_count": 24,
   "id": "cbb19513",
   "metadata": {
    "execution": {
     "iopub.execute_input": "2024-09-25T15:40:12.254912Z",
     "iopub.status.busy": "2024-09-25T15:40:12.254479Z",
     "iopub.status.idle": "2024-09-25T15:40:12.276949Z",
     "shell.execute_reply": "2024-09-25T15:40:12.275780Z"
    },
    "papermill": {
     "duration": 0.046299,
     "end_time": "2024-09-25T15:40:12.279593",
     "exception": false,
     "start_time": "2024-09-25T15:40:12.233294",
     "status": "completed"
    },
    "tags": []
   },
   "outputs": [],
   "source": [
    "# Expected number of sales in 1 week\n",
    "cltv[\"Expected_purc_1_week\"] = bgf.predict(1, # 1 weekly\n",
    "            cltv[\"Frequency\"],\n",
    "            cltv[\"Recency\"],\n",
    "            cltv[\"T\"])\n",
    "\n",
    "# Expected number of sales in 1 month\n",
    "cltv[\"Expected_purc_1_month\"] = bgf.predict(4, # 1 monthly\n",
    "            cltv[\"Frequency\"],\n",
    "            cltv[\"Recency\"],\n",
    "            cltv[\"T\"])"
   ]
  },
  {
   "cell_type": "code",
   "execution_count": 25,
   "id": "0df42335",
   "metadata": {
    "execution": {
     "iopub.execute_input": "2024-09-25T15:40:12.320748Z",
     "iopub.status.busy": "2024-09-25T15:40:12.320291Z",
     "iopub.status.idle": "2024-09-25T15:40:13.253660Z",
     "shell.execute_reply": "2024-09-25T15:40:13.252498Z"
    },
    "papermill": {
     "duration": 0.956854,
     "end_time": "2024-09-25T15:40:13.256169",
     "exception": false,
     "start_time": "2024-09-25T15:40:12.299315",
     "status": "completed"
    },
    "tags": []
   },
   "outputs": [
    {
     "data": {
      "image/png": "[encoded data removed]",
      "text/plain": [
       "<Figure size 640x480 with 1 Axes>"
      ]
     },
     "metadata": {},
     "output_type": "display_data"
    }
   ],
   "source": [
    "# Evaluation of forecast results\n",
    "plot_period_transactions(bgf)\n",
    "plt.show()"
   ]
  },
  {
   "cell_type": "markdown",
   "id": "b06ef3c7",
   "metadata": {
    "papermill": {
     "duration": 0.019906,
     "end_time": "2024-09-25T15:40:13.296335",
     "exception": false,
     "start_time": "2024-09-25T15:40:13.276429",
     "status": "completed"
    },
    "tags": []
   },
   "source": [
    "<a id='10'></a>\n",
    "## Gamma Gamma Model Setup \n",
    "---\n",
    "> Back to [Main Content](#content)\n",
    "<br>\n",
    "> Previous [Content](#9)\n",
    "<br>\n",
    "> Next [Content](#11)  "
   ]
  },
  {
   "cell_type": "code",
   "execution_count": 26,
   "id": "f225890c",
   "metadata": {
    "execution": {
     "iopub.execute_input": "2024-09-25T15:40:13.338443Z",
     "iopub.status.busy": "2024-09-25T15:40:13.337976Z",
     "iopub.status.idle": "2024-09-25T15:40:13.409051Z",
     "shell.execute_reply": "2024-09-25T15:40:13.407327Z"
    },
    "papermill": {
     "duration": 0.096988,
     "end_time": "2024-09-25T15:40:13.413463",
     "exception": false,
     "start_time": "2024-09-25T15:40:13.316475",
     "status": "completed"
    },
    "tags": []
   },
   "outputs": [
    {
     "data": {
      "text/plain": [
       "<lifetimes.GammaGammaFitter: fitted with 2845 subjects, p: 3.79, q: 0.34, v: 3.72>"
      ]
     },
     "execution_count": 26,
     "metadata": {},
     "output_type": "execute_result"
    }
   ],
   "source": [
    "# Created Model Object\n",
    "ggf = GammaGammaFitter(penalizer_coef=0.01)\n",
    "\n",
    "# Model Fitting\n",
    "ggf.fit(cltv['Frequency'], cltv['Monetary'])"
   ]
  },
  {
   "cell_type": "code",
   "execution_count": 27,
   "id": "be6e8f36",
   "metadata": {
    "execution": {
     "iopub.execute_input": "2024-09-25T15:40:13.500821Z",
     "iopub.status.busy": "2024-09-25T15:40:13.499051Z",
     "iopub.status.idle": "2024-09-25T15:40:13.511428Z",
     "shell.execute_reply": "2024-09-25T15:40:13.509858Z"
    },
    "papermill": {
     "duration": 0.060214,
     "end_time": "2024-09-25T15:40:13.515584",
     "exception": false,
     "start_time": "2024-09-25T15:40:13.455370",
     "status": "completed"
    },
    "tags": []
   },
   "outputs": [],
   "source": [
    "# Expected average profit\n",
    "cltv[\"Expected_average_profit\"] = ggf.conditional_expected_average_profit(cltv['Frequency'], cltv['Monetary'])"
   ]
  },
  {
   "cell_type": "code",
   "execution_count": 28,
   "id": "0d317ecd",
   "metadata": {
    "execution": {
     "iopub.execute_input": "2024-09-25T15:40:13.560283Z",
     "iopub.status.busy": "2024-09-25T15:40:13.559872Z",
     "iopub.status.idle": "2024-09-25T15:40:13.572975Z",
     "shell.execute_reply": "2024-09-25T15:40:13.571908Z"
    },
    "papermill": {
     "duration": 0.037115,
     "end_time": "2024-09-25T15:40:13.575384",
     "exception": false,
     "start_time": "2024-09-25T15:40:13.538269",
     "status": "completed"
    },
    "tags": []
   },
   "outputs": [
    {
     "data": {
      "text/html": [
       "<div>\n",
       "<style scoped>\n",
       "    .dataframe tbody tr th:only-of-type {\n",
       "        vertical-align: middle;\n",
       "    }\n",
       "\n",
       "    .dataframe tbody tr th {\n",
       "        vertical-align: top;\n",
       "    }\n",
       "\n",
       "    .dataframe thead th {\n",
       "        text-align: right;\n",
       "    }\n",
       "</style>\n",
       "<table border=\"1\" class=\"dataframe\">\n",
       "  <thead>\n",
       "    <tr style=\"text-align: right;\">\n",
       "      <th></th>\n",
       "      <th>Recency</th>\n",
       "      <th>T</th>\n",
       "      <th>Frequency</th>\n",
       "      <th>Monetary</th>\n",
       "      <th>Expected_purc_1_week</th>\n",
       "      <th>Expected_purc_1_month</th>\n",
       "      <th>Expected_average_profit</th>\n",
       "    </tr>\n",
       "    <tr>\n",
       "      <th>Customer ID</th>\n",
       "      <th></th>\n",
       "      <th></th>\n",
       "      <th></th>\n",
       "      <th></th>\n",
       "      <th></th>\n",
       "      <th></th>\n",
       "      <th></th>\n",
       "    </tr>\n",
       "  </thead>\n",
       "  <tbody>\n",
       "    <tr>\n",
       "      <th>12347</th>\n",
       "      <td>52.143</td>\n",
       "      <td>52.571</td>\n",
       "      <td>7</td>\n",
       "      <td>615.714</td>\n",
       "      <td>0.141</td>\n",
       "      <td>0.564</td>\n",
       "      <td>631.976</td>\n",
       "    </tr>\n",
       "    <tr>\n",
       "      <th>12348</th>\n",
       "      <td>40.286</td>\n",
       "      <td>51.286</td>\n",
       "      <td>4</td>\n",
       "      <td>449.310</td>\n",
       "      <td>0.092</td>\n",
       "      <td>0.367</td>\n",
       "      <td>470.746</td>\n",
       "    </tr>\n",
       "    <tr>\n",
       "      <th>12352</th>\n",
       "      <td>37.143</td>\n",
       "      <td>42.429</td>\n",
       "      <td>8</td>\n",
       "      <td>247.421</td>\n",
       "      <td>0.182</td>\n",
       "      <td>0.727</td>\n",
       "      <td>253.406</td>\n",
       "    </tr>\n",
       "    <tr>\n",
       "      <th>12356</th>\n",
       "      <td>43.143</td>\n",
       "      <td>46.571</td>\n",
       "      <td>3</td>\n",
       "      <td>937.143</td>\n",
       "      <td>0.086</td>\n",
       "      <td>0.344</td>\n",
       "      <td>996.244</td>\n",
       "    </tr>\n",
       "    <tr>\n",
       "      <th>12358</th>\n",
       "      <td>21.286</td>\n",
       "      <td>21.571</td>\n",
       "      <td>2</td>\n",
       "      <td>584.030</td>\n",
       "      <td>0.122</td>\n",
       "      <td>0.486</td>\n",
       "      <td>641.803</td>\n",
       "    </tr>\n",
       "  </tbody>\n",
       "</table>\n",
       "</div>"
      ],
      "text/plain": [
       "             Recency      T  Frequency  Monetary  Expected_purc_1_week  \\\n",
       "Customer ID                                                              \n",
       "12347         52.143 52.571          7   615.714                 0.141   \n",
       "12348         40.286 51.286          4   449.310                 0.092   \n",
       "12352         37.143 42.429          8   247.421                 0.182   \n",
       "12356         43.143 46.571          3   937.143                 0.086   \n",
       "12358         21.286 21.571          2   584.030                 0.122   \n",
       "\n",
       "             Expected_purc_1_month  Expected_average_profit  \n",
       "Customer ID                                                  \n",
       "12347                        0.564                  631.976  \n",
       "12348                        0.367                  470.746  \n",
       "12352                        0.727                  253.406  \n",
       "12356                        0.344                  996.244  \n",
       "12358                        0.486                  641.803  "
      ]
     },
     "execution_count": 28,
     "metadata": {},
     "output_type": "execute_result"
    }
   ],
   "source": [
    "cltv.head()"
   ]
  },
  {
   "cell_type": "markdown",
   "id": "fa535bc1",
   "metadata": {
    "papermill": {
     "duration": 0.020405,
     "end_time": "2024-09-25T15:40:13.617060",
     "exception": false,
     "start_time": "2024-09-25T15:40:13.596655",
     "status": "completed"
    },
    "tags": []
   },
   "source": [
    "<a id='11'></a>\n",
    "## CLTV Calculation with BG-NBD & GG Model \n",
    "---\n",
    "> Back to [Main Content](#content)\n",
    "<br>\n",
    "> Previous [Content](#10)\n",
    "<br>\n",
    "> Next [Content](#12)  \n"
   ]
  },
  {
   "cell_type": "code",
   "execution_count": 29,
   "id": "9d3aa6be",
   "metadata": {
    "execution": {
     "iopub.execute_input": "2024-09-25T15:40:13.661134Z",
     "iopub.status.busy": "2024-09-25T15:40:13.660706Z",
     "iopub.status.idle": "2024-09-25T15:40:13.715022Z",
     "shell.execute_reply": "2024-09-25T15:40:13.713959Z"
    },
    "papermill": {
     "duration": 0.079367,
     "end_time": "2024-09-25T15:40:13.717799",
     "exception": false,
     "start_time": "2024-09-25T15:40:13.638432",
     "status": "completed"
    },
    "tags": []
   },
   "outputs": [],
   "source": [
    "# 3-month Customer Lifetime Value\n",
    "clv = ggf.customer_lifetime_value(bgf, # BG-NBD Model\n",
    "                                  cltv['Frequency'],\n",
    "                                  cltv['Recency'],\n",
    "                                  cltv['T'],\n",
    "                                  cltv['Monetary'],\n",
    "                                  time=3,  # 3 months\n",
    "                                  freq=\"W\",  # Frequency information of T\n",
    "                                  discount_rate=0.01)"
   ]
  },
  {
   "cell_type": "code",
   "execution_count": 30,
   "id": "e54879ad",
   "metadata": {
    "execution": {
     "iopub.execute_input": "2024-09-25T15:40:13.760876Z",
     "iopub.status.busy": "2024-09-25T15:40:13.760471Z",
     "iopub.status.idle": "2024-09-25T15:40:13.772158Z",
     "shell.execute_reply": "2024-09-25T15:40:13.770987Z"
    },
    "papermill": {
     "duration": 0.036072,
     "end_time": "2024-09-25T15:40:13.774623",
     "exception": false,
     "start_time": "2024-09-25T15:40:13.738551",
     "status": "completed"
    },
    "tags": []
   },
   "outputs": [
    {
     "data": {
      "text/html": [
       "<div>\n",
       "<style scoped>\n",
       "    .dataframe tbody tr th:only-of-type {\n",
       "        vertical-align: middle;\n",
       "    }\n",
       "\n",
       "    .dataframe tbody tr th {\n",
       "        vertical-align: top;\n",
       "    }\n",
       "\n",
       "    .dataframe thead th {\n",
       "        text-align: right;\n",
       "    }\n",
       "</style>\n",
       "<table border=\"1\" class=\"dataframe\">\n",
       "  <thead>\n",
       "    <tr style=\"text-align: right;\">\n",
       "      <th></th>\n",
       "      <th>Customer ID</th>\n",
       "      <th>clv</th>\n",
       "    </tr>\n",
       "  </thead>\n",
       "  <tbody>\n",
       "    <tr>\n",
       "      <th>0</th>\n",
       "      <td>12347</td>\n",
       "      <td>1128.562</td>\n",
       "    </tr>\n",
       "    <tr>\n",
       "      <th>1</th>\n",
       "      <td>12348</td>\n",
       "      <td>546.942</td>\n",
       "    </tr>\n",
       "    <tr>\n",
       "      <th>2</th>\n",
       "      <td>12352</td>\n",
       "      <td>583.126</td>\n",
       "    </tr>\n",
       "    <tr>\n",
       "      <th>3</th>\n",
       "      <td>12356</td>\n",
       "      <td>1083.357</td>\n",
       "    </tr>\n",
       "    <tr>\n",
       "      <th>4</th>\n",
       "      <td>12358</td>\n",
       "      <td>981.819</td>\n",
       "    </tr>\n",
       "  </tbody>\n",
       "</table>\n",
       "</div>"
      ],
      "text/plain": [
       "   Customer ID      clv\n",
       "0        12347 1128.562\n",
       "1        12348  546.942\n",
       "2        12352  583.126\n",
       "3        12356 1083.357\n",
       "4        12358  981.819"
      ]
     },
     "execution_count": 30,
     "metadata": {},
     "output_type": "execute_result"
    }
   ],
   "source": [
    "clv = clv.reset_index()\n",
    "clv.head()"
   ]
  },
  {
   "cell_type": "code",
   "execution_count": 31,
   "id": "8dbfd32a",
   "metadata": {
    "execution": {
     "iopub.execute_input": "2024-09-25T15:40:13.819034Z",
     "iopub.status.busy": "2024-09-25T15:40:13.818268Z",
     "iopub.status.idle": "2024-09-25T15:40:13.828175Z",
     "shell.execute_reply": "2024-09-25T15:40:13.827192Z"
    },
    "papermill": {
     "duration": 0.034732,
     "end_time": "2024-09-25T15:40:13.830497",
     "exception": false,
     "start_time": "2024-09-25T15:40:13.795765",
     "status": "completed"
    },
    "tags": []
   },
   "outputs": [],
   "source": [
    "cltv_final = cltv.merge(clv, on=\"Customer ID\", how=\"left\")"
   ]
  },
  {
   "cell_type": "code",
   "execution_count": 32,
   "id": "a77cb8cc",
   "metadata": {
    "execution": {
     "iopub.execute_input": "2024-09-25T15:40:13.874833Z",
     "iopub.status.busy": "2024-09-25T15:40:13.873805Z",
     "iopub.status.idle": "2024-09-25T15:40:13.892272Z",
     "shell.execute_reply": "2024-09-25T15:40:13.891073Z"
    },
    "papermill": {
     "duration": 0.043407,
     "end_time": "2024-09-25T15:40:13.894944",
     "exception": false,
     "start_time": "2024-09-25T15:40:13.851537",
     "status": "completed"
    },
    "tags": []
   },
   "outputs": [
    {
     "data": {
      "text/html": [
       "<div>\n",
       "<style scoped>\n",
       "    .dataframe tbody tr th:only-of-type {\n",
       "        vertical-align: middle;\n",
       "    }\n",
       "\n",
       "    .dataframe tbody tr th {\n",
       "        vertical-align: top;\n",
       "    }\n",
       "\n",
       "    .dataframe thead th {\n",
       "        text-align: right;\n",
       "    }\n",
       "</style>\n",
       "<table border=\"1\" class=\"dataframe\">\n",
       "  <thead>\n",
       "    <tr style=\"text-align: right;\">\n",
       "      <th></th>\n",
       "      <th>Customer ID</th>\n",
       "      <th>Recency</th>\n",
       "      <th>T</th>\n",
       "      <th>Frequency</th>\n",
       "      <th>Monetary</th>\n",
       "      <th>Expected_purc_1_week</th>\n",
       "      <th>Expected_purc_1_month</th>\n",
       "      <th>Expected_average_profit</th>\n",
       "      <th>clv</th>\n",
       "    </tr>\n",
       "  </thead>\n",
       "  <tbody>\n",
       "    <tr>\n",
       "      <th>1122</th>\n",
       "      <td>14646</td>\n",
       "      <td>50.429</td>\n",
       "      <td>50.714</td>\n",
       "      <td>73</td>\n",
       "      <td>3795.639</td>\n",
       "      <td>1.206</td>\n",
       "      <td>4.812</td>\n",
       "      <td>3804.771</td>\n",
       "      <td>58028.125</td>\n",
       "    </tr>\n",
       "    <tr>\n",
       "      <th>2761</th>\n",
       "      <td>18102</td>\n",
       "      <td>52.286</td>\n",
       "      <td>52.571</td>\n",
       "      <td>60</td>\n",
       "      <td>4327.622</td>\n",
       "      <td>0.969</td>\n",
       "      <td>3.864</td>\n",
       "      <td>4340.287</td>\n",
       "      <td>53160.523</td>\n",
       "    </tr>\n",
       "    <tr>\n",
       "      <th>2458</th>\n",
       "      <td>17450</td>\n",
       "      <td>51.286</td>\n",
       "      <td>52.571</td>\n",
       "      <td>46</td>\n",
       "      <td>4153.612</td>\n",
       "      <td>0.747</td>\n",
       "      <td>2.982</td>\n",
       "      <td>4169.486</td>\n",
       "      <td>39408.729</td>\n",
       "    </tr>\n",
       "    <tr>\n",
       "      <th>843</th>\n",
       "      <td>14096</td>\n",
       "      <td>13.857</td>\n",
       "      <td>14.571</td>\n",
       "      <td>17</td>\n",
       "      <td>3214.077</td>\n",
       "      <td>0.729</td>\n",
       "      <td>2.896</td>\n",
       "      <td>3247.581</td>\n",
       "      <td>29526.664</td>\n",
       "    </tr>\n",
       "    <tr>\n",
       "      <th>36</th>\n",
       "      <td>12415</td>\n",
       "      <td>44.714</td>\n",
       "      <td>48.286</td>\n",
       "      <td>21</td>\n",
       "      <td>5936.623</td>\n",
       "      <td>0.380</td>\n",
       "      <td>1.514</td>\n",
       "      <td>5986.468</td>\n",
       "      <td>28712.899</td>\n",
       "    </tr>\n",
       "    <tr>\n",
       "      <th>1257</th>\n",
       "      <td>14911</td>\n",
       "      <td>53.143</td>\n",
       "      <td>53.429</td>\n",
       "      <td>201</td>\n",
       "      <td>699.499</td>\n",
       "      <td>3.126</td>\n",
       "      <td>12.472</td>\n",
       "      <td>700.125</td>\n",
       "      <td>27685.788</td>\n",
       "    </tr>\n",
       "    <tr>\n",
       "      <th>874</th>\n",
       "      <td>14156</td>\n",
       "      <td>51.571</td>\n",
       "      <td>53.143</td>\n",
       "      <td>55</td>\n",
       "      <td>2133.647</td>\n",
       "      <td>0.877</td>\n",
       "      <td>3.500</td>\n",
       "      <td>2140.496</td>\n",
       "      <td>23754.462</td>\n",
       "    </tr>\n",
       "    <tr>\n",
       "      <th>1754</th>\n",
       "      <td>16000</td>\n",
       "      <td>0.000</td>\n",
       "      <td>0.429</td>\n",
       "      <td>3</td>\n",
       "      <td>4131.233</td>\n",
       "      <td>0.422</td>\n",
       "      <td>1.664</td>\n",
       "      <td>4387.276</td>\n",
       "      <td>22560.744</td>\n",
       "    </tr>\n",
       "    <tr>\n",
       "      <th>2487</th>\n",
       "      <td>17511</td>\n",
       "      <td>52.857</td>\n",
       "      <td>53.429</td>\n",
       "      <td>31</td>\n",
       "      <td>2937.496</td>\n",
       "      <td>0.509</td>\n",
       "      <td>2.030</td>\n",
       "      <td>2954.220</td>\n",
       "      <td>19010.035</td>\n",
       "    </tr>\n",
       "    <tr>\n",
       "      <th>2075</th>\n",
       "      <td>16684</td>\n",
       "      <td>50.429</td>\n",
       "      <td>51.286</td>\n",
       "      <td>28</td>\n",
       "      <td>2380.484</td>\n",
       "      <td>0.478</td>\n",
       "      <td>1.907</td>\n",
       "      <td>2395.524</td>\n",
       "      <td>14477.739</td>\n",
       "    </tr>\n",
       "  </tbody>\n",
       "</table>\n",
       "</div>"
      ],
      "text/plain": [
       "      Customer ID  Recency      T  Frequency  Monetary  Expected_purc_1_week  \\\n",
       "1122        14646   50.429 50.714         73  3795.639                 1.206   \n",
       "2761        18102   52.286 52.571         60  4327.622                 0.969   \n",
       "2458        17450   51.286 52.571         46  4153.612                 0.747   \n",
       "843         14096   13.857 14.571         17  3214.077                 0.729   \n",
       "36          12415   44.714 48.286         21  5936.623                 0.380   \n",
       "1257        14911   53.143 53.429        201   699.499                 3.126   \n",
       "874         14156   51.571 53.143         55  2133.647                 0.877   \n",
       "1754        16000    0.000  0.429          3  4131.233                 0.422   \n",
       "2487        17511   52.857 53.429         31  2937.496                 0.509   \n",
       "2075        16684   50.429 51.286         28  2380.484                 0.478   \n",
       "\n",
       "      Expected_purc_1_month  Expected_average_profit       clv  \n",
       "1122                  4.812                 3804.771 58028.125  \n",
       "2761                  3.864                 4340.287 53160.523  \n",
       "2458                  2.982                 4169.486 39408.729  \n",
       "843                   2.896                 3247.581 29526.664  \n",
       "36                    1.514                 5986.468 28712.899  \n",
       "1257                 12.472                  700.125 27685.788  \n",
       "874                   3.500                 2140.496 23754.462  \n",
       "1754                  1.664                 4387.276 22560.744  \n",
       "2487                  2.030                 2954.220 19010.035  \n",
       "2075                  1.907                 2395.524 14477.739  "
      ]
     },
     "execution_count": 32,
     "metadata": {},
     "output_type": "execute_result"
    }
   ],
   "source": [
    "cltv_final.sort_values(by=\"clv\", ascending=False).head(10)"
   ]
  },
  {
   "cell_type": "markdown",
   "id": "434d2f2d",
   "metadata": {
    "papermill": {
     "duration": 0.021,
     "end_time": "2024-09-25T15:40:13.937888",
     "exception": false,
     "start_time": "2024-09-25T15:40:13.916888",
     "status": "completed"
    },
    "tags": []
   },
   "source": [
    "<a id='12'></a>\n",
    "## CLTV Segmentation \n",
    "---\n",
    "> Back to [Main Content](#content)\n",
    "<br>\n",
    "> Previous [Content](#11)\n",
    "<br>\n",
    "> Next [Content](#13)  "
   ]
  },
  {
   "cell_type": "code",
   "execution_count": 33,
   "id": "32339ed7",
   "metadata": {
    "execution": {
     "iopub.execute_input": "2024-09-25T15:40:13.983149Z",
     "iopub.status.busy": "2024-09-25T15:40:13.982702Z",
     "iopub.status.idle": "2024-09-25T15:40:13.995173Z",
     "shell.execute_reply": "2024-09-25T15:40:13.994241Z"
    },
    "papermill": {
     "duration": 0.037689,
     "end_time": "2024-09-25T15:40:13.997609",
     "exception": false,
     "start_time": "2024-09-25T15:40:13.959920",
     "status": "completed"
    },
    "tags": []
   },
   "outputs": [],
   "source": [
    "cltv_final[\"Segment\"] = pd.qcut(cltv_final[\"clv\"], 4, labels=[\"D\",\"C\",\"B\",\"A\"])"
   ]
  },
  {
   "cell_type": "code",
   "execution_count": 34,
   "id": "812fbe18",
   "metadata": {
    "execution": {
     "iopub.execute_input": "2024-09-25T15:40:14.041862Z",
     "iopub.status.busy": "2024-09-25T15:40:14.041439Z",
     "iopub.status.idle": "2024-09-25T15:40:14.057042Z",
     "shell.execute_reply": "2024-09-25T15:40:14.055606Z"
    },
    "papermill": {
     "duration": 0.04058,
     "end_time": "2024-09-25T15:40:14.059492",
     "exception": false,
     "start_time": "2024-09-25T15:40:14.018912",
     "status": "completed"
    },
    "tags": []
   },
   "outputs": [
    {
     "data": {
      "text/html": [
       "<div>\n",
       "<style scoped>\n",
       "    .dataframe tbody tr th:only-of-type {\n",
       "        vertical-align: middle;\n",
       "    }\n",
       "\n",
       "    .dataframe tbody tr th {\n",
       "        vertical-align: top;\n",
       "    }\n",
       "\n",
       "    .dataframe thead th {\n",
       "        text-align: right;\n",
       "    }\n",
       "</style>\n",
       "<table border=\"1\" class=\"dataframe\">\n",
       "  <thead>\n",
       "    <tr style=\"text-align: right;\">\n",
       "      <th></th>\n",
       "      <th>Customer ID</th>\n",
       "      <th>Recency</th>\n",
       "      <th>T</th>\n",
       "      <th>Frequency</th>\n",
       "      <th>Monetary</th>\n",
       "      <th>Expected_purc_1_week</th>\n",
       "      <th>Expected_purc_1_month</th>\n",
       "      <th>Expected_average_profit</th>\n",
       "      <th>clv</th>\n",
       "      <th>Segment</th>\n",
       "    </tr>\n",
       "  </thead>\n",
       "  <tbody>\n",
       "    <tr>\n",
       "      <th>0</th>\n",
       "      <td>12347</td>\n",
       "      <td>52.143</td>\n",
       "      <td>52.571</td>\n",
       "      <td>7</td>\n",
       "      <td>615.714</td>\n",
       "      <td>0.141</td>\n",
       "      <td>0.564</td>\n",
       "      <td>631.976</td>\n",
       "      <td>1128.562</td>\n",
       "      <td>A</td>\n",
       "    </tr>\n",
       "    <tr>\n",
       "      <th>1</th>\n",
       "      <td>12348</td>\n",
       "      <td>40.286</td>\n",
       "      <td>51.286</td>\n",
       "      <td>4</td>\n",
       "      <td>449.310</td>\n",
       "      <td>0.092</td>\n",
       "      <td>0.367</td>\n",
       "      <td>470.746</td>\n",
       "      <td>546.942</td>\n",
       "      <td>B</td>\n",
       "    </tr>\n",
       "    <tr>\n",
       "      <th>2</th>\n",
       "      <td>12352</td>\n",
       "      <td>37.143</td>\n",
       "      <td>42.429</td>\n",
       "      <td>8</td>\n",
       "      <td>247.421</td>\n",
       "      <td>0.182</td>\n",
       "      <td>0.727</td>\n",
       "      <td>253.406</td>\n",
       "      <td>583.126</td>\n",
       "      <td>B</td>\n",
       "    </tr>\n",
       "    <tr>\n",
       "      <th>3</th>\n",
       "      <td>12356</td>\n",
       "      <td>43.143</td>\n",
       "      <td>46.571</td>\n",
       "      <td>3</td>\n",
       "      <td>937.143</td>\n",
       "      <td>0.086</td>\n",
       "      <td>0.344</td>\n",
       "      <td>996.244</td>\n",
       "      <td>1083.357</td>\n",
       "      <td>A</td>\n",
       "    </tr>\n",
       "    <tr>\n",
       "      <th>4</th>\n",
       "      <td>12358</td>\n",
       "      <td>21.286</td>\n",
       "      <td>21.571</td>\n",
       "      <td>2</td>\n",
       "      <td>584.030</td>\n",
       "      <td>0.122</td>\n",
       "      <td>0.486</td>\n",
       "      <td>641.803</td>\n",
       "      <td>981.819</td>\n",
       "      <td>A</td>\n",
       "    </tr>\n",
       "  </tbody>\n",
       "</table>\n",
       "</div>"
      ],
      "text/plain": [
       "   Customer ID  Recency      T  Frequency  Monetary  Expected_purc_1_week  \\\n",
       "0        12347   52.143 52.571          7   615.714                 0.141   \n",
       "1        12348   40.286 51.286          4   449.310                 0.092   \n",
       "2        12352   37.143 42.429          8   247.421                 0.182   \n",
       "3        12356   43.143 46.571          3   937.143                 0.086   \n",
       "4        12358   21.286 21.571          2   584.030                 0.122   \n",
       "\n",
       "   Expected_purc_1_month  Expected_average_profit      clv Segment  \n",
       "0                  0.564                  631.976 1128.562       A  \n",
       "1                  0.367                  470.746  546.942       B  \n",
       "2                  0.727                  253.406  583.126       B  \n",
       "3                  0.344                  996.244 1083.357       A  \n",
       "4                  0.486                  641.803  981.819       A  "
      ]
     },
     "execution_count": 34,
     "metadata": {},
     "output_type": "execute_result"
    }
   ],
   "source": [
    "cltv_final.head()"
   ]
  },
  {
   "cell_type": "code",
   "execution_count": 35,
   "id": "90bbaa87",
   "metadata": {
    "execution": {
     "iopub.execute_input": "2024-09-25T15:40:14.105231Z",
     "iopub.status.busy": "2024-09-25T15:40:14.104202Z",
     "iopub.status.idle": "2024-09-25T15:40:14.150659Z",
     "shell.execute_reply": "2024-09-25T15:40:14.149556Z"
    },
    "papermill": {
     "duration": 0.071973,
     "end_time": "2024-09-25T15:40:14.153147",
     "exception": false,
     "start_time": "2024-09-25T15:40:14.081174",
     "status": "completed"
    },
    "tags": []
   },
   "outputs": [
    {
     "data": {
      "text/html": [
       "<div>\n",
       "<style scoped>\n",
       "    .dataframe tbody tr th:only-of-type {\n",
       "        vertical-align: middle;\n",
       "    }\n",
       "\n",
       "    .dataframe tbody tr th {\n",
       "        vertical-align: top;\n",
       "    }\n",
       "\n",
       "    .dataframe thead tr th {\n",
       "        text-align: left;\n",
       "    }\n",
       "\n",
       "    .dataframe thead tr:last-of-type th {\n",
       "        text-align: right;\n",
       "    }\n",
       "</style>\n",
       "<table border=\"1\" class=\"dataframe\">\n",
       "  <thead>\n",
       "    <tr>\n",
       "      <th></th>\n",
       "      <th colspan=\"3\" halign=\"left\">Customer ID</th>\n",
       "      <th colspan=\"3\" halign=\"left\">Recency</th>\n",
       "      <th colspan=\"3\" halign=\"left\">T</th>\n",
       "      <th colspan=\"3\" halign=\"left\">Frequency</th>\n",
       "      <th colspan=\"3\" halign=\"left\">Monetary</th>\n",
       "      <th colspan=\"3\" halign=\"left\">Expected_purc_1_week</th>\n",
       "      <th colspan=\"3\" halign=\"left\">Expected_purc_1_month</th>\n",
       "      <th colspan=\"3\" halign=\"left\">Expected_average_profit</th>\n",
       "      <th colspan=\"3\" halign=\"left\">clv</th>\n",
       "    </tr>\n",
       "    <tr>\n",
       "      <th></th>\n",
       "      <th>count</th>\n",
       "      <th>sum</th>\n",
       "      <th>mean</th>\n",
       "      <th>count</th>\n",
       "      <th>sum</th>\n",
       "      <th>mean</th>\n",
       "      <th>count</th>\n",
       "      <th>sum</th>\n",
       "      <th>mean</th>\n",
       "      <th>count</th>\n",
       "      <th>sum</th>\n",
       "      <th>mean</th>\n",
       "      <th>count</th>\n",
       "      <th>sum</th>\n",
       "      <th>mean</th>\n",
       "      <th>count</th>\n",
       "      <th>sum</th>\n",
       "      <th>mean</th>\n",
       "      <th>count</th>\n",
       "      <th>sum</th>\n",
       "      <th>mean</th>\n",
       "      <th>count</th>\n",
       "      <th>sum</th>\n",
       "      <th>mean</th>\n",
       "      <th>count</th>\n",
       "      <th>sum</th>\n",
       "      <th>mean</th>\n",
       "    </tr>\n",
       "    <tr>\n",
       "      <th>Segment</th>\n",
       "      <th></th>\n",
       "      <th></th>\n",
       "      <th></th>\n",
       "      <th></th>\n",
       "      <th></th>\n",
       "      <th></th>\n",
       "      <th></th>\n",
       "      <th></th>\n",
       "      <th></th>\n",
       "      <th></th>\n",
       "      <th></th>\n",
       "      <th></th>\n",
       "      <th></th>\n",
       "      <th></th>\n",
       "      <th></th>\n",
       "      <th></th>\n",
       "      <th></th>\n",
       "      <th></th>\n",
       "      <th></th>\n",
       "      <th></th>\n",
       "      <th></th>\n",
       "      <th></th>\n",
       "      <th></th>\n",
       "      <th></th>\n",
       "      <th></th>\n",
       "      <th></th>\n",
       "      <th></th>\n",
       "    </tr>\n",
       "  </thead>\n",
       "  <tbody>\n",
       "    <tr>\n",
       "      <th>D</th>\n",
       "      <td>712</td>\n",
       "      <td>11078423</td>\n",
       "      <td>15559.583</td>\n",
       "      <td>712</td>\n",
       "      <td>15771.714</td>\n",
       "      <td>22.151</td>\n",
       "      <td>712</td>\n",
       "      <td>28775.714</td>\n",
       "      <td>40.415</td>\n",
       "      <td>712</td>\n",
       "      <td>2185</td>\n",
       "      <td>3.069</td>\n",
       "      <td>712</td>\n",
       "      <td>131061.004</td>\n",
       "      <td>184.074</td>\n",
       "      <td>712</td>\n",
       "      <td>50.937</td>\n",
       "      <td>0.072</td>\n",
       "      <td>712</td>\n",
       "      <td>202.859</td>\n",
       "      <td>0.285</td>\n",
       "      <td>712</td>\n",
       "      <td>142126.930</td>\n",
       "      <td>199.616</td>\n",
       "      <td>712</td>\n",
       "      <td>103701.742</td>\n",
       "      <td>145.649</td>\n",
       "    </tr>\n",
       "    <tr>\n",
       "      <th>C</th>\n",
       "      <td>711</td>\n",
       "      <td>10885650</td>\n",
       "      <td>15310.338</td>\n",
       "      <td>711</td>\n",
       "      <td>21794.714</td>\n",
       "      <td>30.654</td>\n",
       "      <td>711</td>\n",
       "      <td>27122.000</td>\n",
       "      <td>38.146</td>\n",
       "      <td>711</td>\n",
       "      <td>2911</td>\n",
       "      <td>4.094</td>\n",
       "      <td>711</td>\n",
       "      <td>198957.521</td>\n",
       "      <td>279.828</td>\n",
       "      <td>711</td>\n",
       "      <td>85.763</td>\n",
       "      <td>0.121</td>\n",
       "      <td>711</td>\n",
       "      <td>341.520</td>\n",
       "      <td>0.480</td>\n",
       "      <td>711</td>\n",
       "      <td>212406.820</td>\n",
       "      <td>298.744</td>\n",
       "      <td>711</td>\n",
       "      <td>273760.806</td>\n",
       "      <td>385.036</td>\n",
       "    </tr>\n",
       "    <tr>\n",
       "      <th>B</th>\n",
       "      <td>711</td>\n",
       "      <td>10911380</td>\n",
       "      <td>15346.526</td>\n",
       "      <td>711</td>\n",
       "      <td>20876.714</td>\n",
       "      <td>29.362</td>\n",
       "      <td>711</td>\n",
       "      <td>24707.000</td>\n",
       "      <td>34.750</td>\n",
       "      <td>711</td>\n",
       "      <td>3865</td>\n",
       "      <td>5.436</td>\n",
       "      <td>711</td>\n",
       "      <td>267813.810</td>\n",
       "      <td>376.672</td>\n",
       "      <td>711</td>\n",
       "      <td>115.222</td>\n",
       "      <td>0.162</td>\n",
       "      <td>711</td>\n",
       "      <td>458.558</td>\n",
       "      <td>0.645</td>\n",
       "      <td>711</td>\n",
       "      <td>282573.948</td>\n",
       "      <td>397.432</td>\n",
       "      <td>711</td>\n",
       "      <td>493160.100</td>\n",
       "      <td>693.615</td>\n",
       "    </tr>\n",
       "    <tr>\n",
       "      <th>A</th>\n",
       "      <td>711</td>\n",
       "      <td>10630758</td>\n",
       "      <td>14951.840</td>\n",
       "      <td>711</td>\n",
       "      <td>22397.714</td>\n",
       "      <td>31.502</td>\n",
       "      <td>711</td>\n",
       "      <td>24572.571</td>\n",
       "      <td>34.561</td>\n",
       "      <td>711</td>\n",
       "      <td>8078</td>\n",
       "      <td>11.361</td>\n",
       "      <td>711</td>\n",
       "      <td>492787.968</td>\n",
       "      <td>693.091</td>\n",
       "      <td>711</td>\n",
       "      <td>194.405</td>\n",
       "      <td>0.273</td>\n",
       "      <td>711</td>\n",
       "      <td>773.956</td>\n",
       "      <td>1.089</td>\n",
       "      <td>711</td>\n",
       "      <td>512488.256</td>\n",
       "      <td>720.799</td>\n",
       "      <td>711</td>\n",
       "      <td>1655127.539</td>\n",
       "      <td>2327.887</td>\n",
       "    </tr>\n",
       "  </tbody>\n",
       "</table>\n",
       "</div>"
      ],
      "text/plain": [
       "        Customer ID                     Recency                      T  \\\n",
       "              count       sum      mean   count       sum   mean count   \n",
       "Segment                                                                  \n",
       "D               712  11078423 15559.583     712 15771.714 22.151   712   \n",
       "C               711  10885650 15310.338     711 21794.714 30.654   711   \n",
       "B               711  10911380 15346.526     711 20876.714 29.362   711   \n",
       "A               711  10630758 14951.840     711 22397.714 31.502   711   \n",
       "\n",
       "                         Frequency              Monetary                     \\\n",
       "              sum   mean     count   sum   mean    count        sum    mean   \n",
       "Segment                                                                       \n",
       "D       28775.714 40.415       712  2185  3.069      712 131061.004 184.074   \n",
       "C       27122.000 38.146       711  2911  4.094      711 198957.521 279.828   \n",
       "B       24707.000 34.750       711  3865  5.436      711 267813.810 376.672   \n",
       "A       24572.571 34.561       711  8078 11.361      711 492787.968 693.091   \n",
       "\n",
       "        Expected_purc_1_week               Expected_purc_1_month          \\\n",
       "                       count     sum  mean                 count     sum   \n",
       "Segment                                                                    \n",
       "D                        712  50.937 0.072                   712 202.859   \n",
       "C                        711  85.763 0.121                   711 341.520   \n",
       "B                        711 115.222 0.162                   711 458.558   \n",
       "A                        711 194.405 0.273                   711 773.956   \n",
       "\n",
       "              Expected_average_profit                      clv              \\\n",
       "         mean                   count        sum    mean count         sum   \n",
       "Segment                                                                      \n",
       "D       0.285                     712 142126.930 199.616   712  103701.742   \n",
       "C       0.480                     711 212406.820 298.744   711  273760.806   \n",
       "B       0.645                     711 282573.948 397.432   711  493160.100   \n",
       "A       1.089                     711 512488.256 720.799   711 1655127.539   \n",
       "\n",
       "                  \n",
       "            mean  \n",
       "Segment           \n",
       "D        145.649  \n",
       "C        385.036  \n",
       "B        693.615  \n",
       "A       2327.887  "
      ]
     },
     "execution_count": 35,
     "metadata": {},
     "output_type": "execute_result"
    }
   ],
   "source": [
    "cltv_final.groupby(\"Segment\").agg(\n",
    "    {\"count\", \"mean\", \"sum\"}\n",
    ")"
   ]
  },
  {
   "cell_type": "markdown",
   "id": "c275e6ae",
   "metadata": {
    "papermill": {
     "duration": 0.021857,
     "end_time": "2024-09-25T15:40:14.197233",
     "exception": false,
     "start_time": "2024-09-25T15:40:14.175376",
     "status": "completed"
    },
    "tags": []
   },
   "source": [
    "<a id='13'></a>\n",
    "## Conclusion \n",
    "---\n",
    "> Back to [Main Content](#content)\n",
    "<br>\n",
    "> Previous [Content](#12)"
   ]
  }
 ],
 "metadata": {
  "kaggle": {
   "accelerator": "none",
   "dataSources": [
    {
     "datasetId": 5694129,
     "sourceId": 9385150,
     "sourceType": "datasetVersion"
    }
   ],
   "dockerImageVersionId": 30775,
   "isGpuEnabled": false,
   "isInternetEnabled": true,
   "language": "python",
   "sourceType": "notebook"
  },
  "kernelspec": {
   "display_name": "Python 3",
   "language": "python",
   "name": "python3"
  },
  "language_info": {
   "codemirror_mode": {
    "name": "ipython",
    "version": 3
   },
   "file_extension": ".py",
   "mimetype": "text/x-python",
   "name": "python",
   "nbconvert_exporter": "python",
   "pygments_lexer": "ipython3",
   "version": "3.10.14"
  },
  "papermill": {
   "default_parameters": {},
   "duration": 140.585288,
   "end_time": "2024-09-25T15:40:14.941450",
   "environment_variables": {},
   "exception": null,
   "input_path": "__notebook__.ipynb",
   "output_path": "__notebook__.ipynb",
   "parameters": {},
   "start_time": "2024-09-25T15:37:54.356162",
   "version": "2.6.0"
  }
 },
 "nbformat": 4,
 "nbformat_minor": 5
}
